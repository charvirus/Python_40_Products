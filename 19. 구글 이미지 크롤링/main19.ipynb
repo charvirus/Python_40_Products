{
 "cells": [
  {
   "cell_type": "code",
   "execution_count": 7,
   "metadata": {},
   "outputs": [],
   "source": [
    "from selenium import webdriver\n",
    "from selenium.webdriver.chrome.options import Options\n",
    "\n",
    "chrome_options = Options()\n",
    "chrome_options.add_experimental_option(\"detach\", True)\n",
    "\n",
    "driver = webdriver.Chrome(options=chrome_options)\n",
    "\n",
    "URL='https://www.google.co.kr/imghp'\n",
    "driver.get(url=URL)\n",
    "\n",
    "driver.implicitly_wait(time_to_wait=10)"
   ]
  },
  {
   "cell_type": "code",
   "execution_count": 8,
   "metadata": {},
   "outputs": [],
   "source": [
    "from selenium.webdriver.common.keys import Keys\n",
    "from selenium.webdriver.common.by import By\n",
    "\n",
    "elem = driver.find_element(By.XPATH,\"\"\"//*[@id=\"APjFqb\"]\"\"\")\n",
    "elem.send_keys(\"바다\")\n",
    "elem.send_keys(Keys.RETURN)"
   ]
  },
  {
   "cell_type": "code",
   "execution_count": 9,
   "metadata": {},
   "outputs": [],
   "source": [
    "import time\n",
    "elem = driver.find_element(By.TAG_NAME,\"body\")\n",
    "for i in range(60):\n",
    "    elem.send_keys(Keys.PAGE_DOWN)\n",
    "    time.sleep(0.1)\n",
    "    \n",
    "try:\n",
    "    driver.find_element(By.XPATH,\"\"\"//*[@id=\"islmp\"]/div/div/div/div/div[1]/div[2]/div[2]/input\"\"\").click()\n",
    "\n",
    "    for i in range(60):\n",
    "        elem.send_keys(Keys.PAGE_DOWN)\n",
    "        time.sleep(0.1)\n",
    "except:\n",
    "    pass\n"
   ]
  },
  {
   "cell_type": "code",
   "execution_count": 12,
   "metadata": {},
   "outputs": [
    {
     "name": "stdout",
     "output_type": "stream",
     "text": [
      "찾은 이미지 개수 :  627\n"
     ]
    }
   ],
   "source": [
    "links =[]\n",
    "images = driver.find_elements(By.CSS_SELECTOR,\"#islrg > div.islrc > div > a.FRuiCf.islib.nfEiy > div.fR600b.islir > img\")\n",
    "\n",
    "imagess = driver.find_elements(By.CSS_SELECTOR,\"#islrg > div.islrc > div > div > a.FRuiCf.islib.nfEiy > div.fR600b.islir > img\")\n",
    "\n",
    "for image in images:\n",
    "    if image.get_attribute('src') is not None:\n",
    "        links.append(image.get_attribute('src'))\n",
    "\n",
    "\n",
    "for image in imagess:\n",
    "    if image.get_attribute('src') is not None:\n",
    "        links.append(image.get_attribute('src'))\n",
    "\n",
    "print('찾은 이미지 개수 : ',len(links))\n"
   ]
  },
  {
   "cell_type": "code",
   "execution_count": 51,
   "metadata": {},
   "outputs": [
    {
     "name": "stdout",
     "output_type": "stream",
     "text": [
      "다운로드 완료\n"
     ]
    }
   ],
   "source": [
    "import urllib.request\n",
    "\n",
    "for k,i in enumerate(links):\n",
    "    url = i\n",
    "    urllib.request.urlretrieve(url,\"C:\\\\Users\\\\jbran\\\\PycharmProjects\\\\Python_40_Products\\\\19. 구글 이미지 크롤링\\\\images download\\\\\"+str(k)+\".jpg\")\n",
    "\n",
    "print(\"다운로드 완료\")"
   ]
  },
  {
   "cell_type": "code",
   "execution_count": null,
   "metadata": {},
   "outputs": [],
   "source": []
  }
 ],
 "metadata": {
  "kernelspec": {
   "display_name": "Python 3",
   "language": "python",
   "name": "python3"
  },
  "language_info": {
   "codemirror_mode": {
    "name": "ipython",
    "version": 3
   },
   "file_extension": ".py",
   "mimetype": "text/x-python",
   "name": "python",
   "nbconvert_exporter": "python",
   "pygments_lexer": "ipython3",
   "version": "3.12.0"
  }
 },
 "nbformat": 4,
 "nbformat_minor": 2
}
