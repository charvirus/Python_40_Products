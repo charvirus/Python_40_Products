{
 "cells": [
  {
   "cell_type": "code",
   "execution_count": 1,
   "metadata": {},
   "outputs": [],
   "source": [
    "from selenium import webdriver\n",
    "from selenium.webdriver.common.by import By\n",
    "from webdriver_manager.chrome import ChromeDriverManager\n",
    "\n",
    "driver = webdriver.Chrome()\n",
    "\n",
    "URL = 'https://www.google.com'\n",
    "\n",
    "driver.get(url=URL)\n",
    "driver.implicitly_wait(time_to_wait=10)"
   ]
  },
  {
   "cell_type": "code",
   "execution_count": 2,
   "metadata": {},
   "outputs": [
    {
     "name": "stdout",
     "output_type": "stream",
     "text": [
      "원희룡 이재명\n",
      "사람들 에미상 8관왕\n",
      "트럼프 승리\n",
      "건강기능식품 개인간 재판매\n",
      "세종시 아파트 화재\n",
      "반도체 기술 전\n",
      "돈버는퀴즈 캐시워크\n",
      "안마도 사슴\n",
      "RM 훈련병됐다 수료\n",
      "최선희\n"
     ]
    }
   ],
   "source": [
    "URL = 'https://signal.bz/news'\n",
    "driver.get(url=URL)\n",
    "\n",
    "naver_results = driver.find_elements(By.XPATH,\"\"\"//*[@id=\"app\"]/div/main/div/section/div/section/section[1]/div[2]/div/div/div/a/span[2]\"\"\")\n",
    "\n",
    "naver_list = []\n",
    "for naver_result in naver_results:\n",
    "    print(naver_result.text)\n",
    "    naver_list.append(naver_result.text) \n"
   ]
  },
  {
   "cell_type": "code",
   "execution_count": 3,
   "metadata": {},
   "outputs": [
    {
     "name": "stdout",
     "output_type": "stream",
     "text": [
      "권익위 이재명 조사\n",
      "방탄소년단 뷔 훈련병됐다\n",
      "동원산업 자사주 전량\n",
      "사람들 에미상 8관왕\n",
      "건강기능식품 개인간 재판매\n",
      "성폭행 강사 재판행\n",
      "우럭 상사에게 선물\n",
      "\n",
      "\n",
      "\n"
     ]
    }
   ],
   "source": [
    "URL = 'https://www.nate.com'\n",
    "driver.get(url=URL)\n",
    "driver.implicitly_wait(time_to_wait=10)\n",
    "driver.find_element(By.XPATH,\"\"\"//*[@id=\"olLiveIssueKeyword\"]/li[1]/a\"\"\").click()\n",
    "nate_results = driver.find_elements(By.XPATH,\"\"\"//*[@id=\"search-option\"]/form[1]/fieldset/div[1]/span/a\"\"\")\n",
    "\n",
    "nate_list =[]\n",
    "for nate_result in nate_results:\n",
    "    print(nate_result.text)\n",
    "    nate_list.append(nate_result.text)"
   ]
  },
  {
   "cell_type": "code",
   "execution_count": 5,
   "metadata": {},
   "outputs": [
    {
     "name": "stdout",
     "output_type": "stream",
     "text": [
      "개혁신당 대통령 배우자\n",
      "트럼프 아이오와 승리\n",
      "박서준 끝까지\n",
      "김진욱 공수처장\n",
      "원희룡 이재명 지역구\n",
      "한동훈 비대위원장 인사\n",
      "안마도 사슴\n",
      "박종문 헌재 사무처장\n",
      "임영웅\n",
      "사람들 에미상\n"
     ]
    }
   ],
   "source": [
    "import time\n",
    "\n",
    "URL = 'https://zum.com'\n",
    "driver.get(url=URL)\n",
    "driver.implicitly_wait(time_to_wait=10)\n",
    "\n",
    "driver.find_element(By.XPATH,\"\"\"//*[@id=\"app\"]/div/div[2]/div[1]/button\"\"\").click()\n",
    "time.sleep(0.5)\n",
    "\n",
    "driver.find_element(By.XPATH,\"\"\"//*[@id=\"search-input\"]\"\"\").send_keys(\"아무거나 검색\")\n",
    "time.sleep(0.5)\n",
    "\n",
    "driver.find_element(By.XPATH,\"\"\"//*[@id=\"app\"]/div/header/div[2]/div/fieldset/div/button[2]\"\"\").click()\n",
    "time.sleep(1)\n",
    "\n",
    "zum_results = driver.find_elements(By.XPATH,\"\"\"//*[@id=\"issue_wrap\"]/ul/li/div/a[1]/span[2]\"\"\")\n",
    "\n",
    "zum_list = []\n",
    "for zum_result in zum_results:\n",
    "    print(zum_result.text)\n",
    "    zum_list.append(zum_result.text)"
   ]
  },
  {
   "cell_type": "code",
   "execution_count": 6,
   "metadata": {},
   "outputs": [
    {
     "name": "stdout",
     "output_type": "stream",
     "text": [
      "네이버 ['원희룡 이재명', '사람들 에미상 8관왕', '트럼프 승리', '건강기능식품 개인간 재판매', '세종시 아파트 화재', '반도체 기술 전', '돈버는퀴즈 캐시워크', '안마도 사슴', 'RM 훈련병됐다 수료', '최선희']\n",
      "네이트 ['권익위 이재명 조사', '방탄소년단 뷔 훈련병됐다', '동원산업 자사주 전량', '사람들 에미상 8관왕', '건강기능식품 개인간 재판매', '성폭행 강사 재판행', '우럭 상사에게 선물', '', '', '']\n",
      "줌 ['개혁신당 대통령 배우자', '트럼프 아이오와 승리', '박서준 끝까지', '김진욱 공수처장', '원희룡 이재명 지역구', '한동훈 비대위원장 인사', '안마도 사슴', '박종문 헌재 사무처장', '임영웅', '사람들 에미상']\n"
     ]
    }
   ],
   "source": [
    "print(\"네이버\",naver_list)\n",
    "print(\"네이트\",nate_list)\n",
    "print(\"줌\",zum_list)"
   ]
  }
 ],
 "metadata": {
  "kernelspec": {
   "display_name": "Python 3",
   "language": "python",
   "name": "python3"
  },
  "language_info": {
   "codemirror_mode": {
    "name": "ipython",
    "version": 3
   },
   "file_extension": ".py",
   "mimetype": "text/x-python",
   "name": "python",
   "nbconvert_exporter": "python",
   "pygments_lexer": "ipython3",
   "version": "3.11.0"
  }
 },
 "nbformat": 4,
 "nbformat_minor": 2
}
