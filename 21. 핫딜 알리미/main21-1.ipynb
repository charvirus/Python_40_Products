{
 "cells": [
  {
   "cell_type": "code",
   "execution_count": 1,
   "metadata": {},
   "outputs": [],
   "source": [
    "from selenium import webdriver\n",
    "from selenium.webdriver.common.by import By\n",
    "from webdriver_manager.chrome import ChromeDriverManager\n",
    "\n",
    "driver = webdriver.Chrome()\n",
    "\n",
    "URL = \"https://www.ppomppu.co.kr/zboard/zboard.php?id=ppomppu\"\n",
    "\n",
    "driver.get(url=URL)\n",
    "driver.implicitly_wait(time_to_wait=10)"
   ]
  },
  {
   "cell_type": "code",
   "execution_count": 8,
   "metadata": {},
   "outputs": [
    {
     "name": "stdout",
     "output_type": "stream",
     "text": [
      "[쿠팡] shure mv7 실버 (243,380/0)\n",
      "https://www.ppomppu.co.kr/zboard/view.php?id=ppomppu&page=1&divpage=86&no=514317\n",
      "[쿠팡] 무선 다리 종아리 안마기 (27,900원/무료)\n",
      "https://www.ppomppu.co.kr/zboard/view.php?id=ppomppu&page=1&divpage=86&no=514316\n",
      "[티몬] 단골집 송탄치즈부대찌개 500g x 4팩+라면사리1개+오뚜기 사골곰탕 350g (11,900/무료)\n",
      "https://www.ppomppu.co.kr/zboard/view.php?id=ppomppu&page=1&divpage=86&no=514315\n",
      "[위메프+] 오쏘몰 이뮨 2박스 (145,740원/무배)\n",
      "https://www.ppomppu.co.kr/zboard/view.php?id=ppomppu&page=1&divpage=86&no=514314\n",
      "[라스트오더] 까르보 불닭볶음면 큰컵(임박)x16개(8,900원/무료)\n",
      "https://www.ppomppu.co.kr/zboard/view.php?id=ppomppu&page=1&divpage=86&no=514313\n",
      "[농협몰] 팔공상강한우 실속선물세트 1호 1.2kg (등심/불고기 각600g)(79,000원/무료)\n",
      "https://www.ppomppu.co.kr/zboard/view.php?id=ppomppu&page=1&divpage=86&no=514312\n",
      "[티몬] 농심 육개장,김치 사발면 24개 외 생생우동 (12,790원/무료)\n",
      "https://www.ppomppu.co.kr/zboard/view.php?id=ppomppu&page=1&divpage=86&no=514311\n",
      "[쿠팡] Toocki 디스플레이 코일 스프링 PD 100W c to c타입 초고속 충전케이블 로켓직구(3,290원/무료배송)\n",
      "https://www.ppomppu.co.kr/zboard/view.php?id=ppomppu&page=1&divpage=86&no=514310\n",
      "[위메프] 니트릴장갑 200매 (6,980원/무료)\n",
      "https://www.ppomppu.co.kr/zboard/view.php?id=ppomppu&page=1&divpage=86&no=514309\n",
      "[떠리몰]이츠하이 락토페린 9000 500mg*60정(9,900원/무배)\n",
      "https://www.ppomppu.co.kr/zboard/view.php?id=ppomppu&page=1&divpage=86&no=514308\n",
      "[쿠팡]무선 안드로이드 오토 앤 무선 카플레이호환 영상 앱 다운로드 가능 Ottocast PICASOU 2(192,000원/무료배송)\n",
      "https://www.ppomppu.co.kr/zboard/view.php?id=ppomppu&page=1&divpage=86&no=514307\n",
      "[네이버] 솔로몬팜 무농약 유럽샐러드 6종이상 1kg 유럽상추 친환경(1만/무료)\n",
      "https://www.ppomppu.co.kr/zboard/view.php?id=ppomppu&page=1&divpage=86&no=514306\n",
      "[네이버]함흥냉면 물냉 비냉 6인분세트 10,900원, 무배\n",
      "https://www.ppomppu.co.kr/zboard/view.php?id=ppomppu&page=1&divpage=86&no=514305\n",
      "[지마켓] 연세우유 전용목장우유 48팩 (23,630원/무료배송)\n",
      "https://www.ppomppu.co.kr/zboard/view.php?id=ppomppu&page=1&divpage=86&no=514304\n",
      "[위메프] 마모스 미니 가습기 MMS-MH300V (3,920원/무료)\n",
      "https://www.ppomppu.co.kr/zboard/view.php?id=ppomppu&page=1&divpage=86&no=514303\n",
      "[네이버] 다바나와라 기화펜 리필심 50개+기본펜 4개 일반식 0.5mm 지워지는 볼펜 (990원/유료배송)\n",
      "https://www.ppomppu.co.kr/zboard/view.php?id=ppomppu&page=1&divpage=86&no=514302\n",
      "[라스트오더] 임박특가 팔레오 모로오렌지 분말 200g (600원/3,000원)\n",
      "https://www.ppomppu.co.kr/zboard/view.php?id=ppomppu&page=1&divpage=86&no=514301\n",
      "[티몬] 베이스어스 3in1 고속충전 케이블 1.2m/66w (1,990원/무료배송)\n",
      "https://www.ppomppu.co.kr/zboard/view.php?id=ppomppu&page=1&divpage=86&no=514300\n",
      "[지마켓]VXE R1 PRO MAX 무선 게이밍 마우스 (PAW3395) (37,350원/무료)\n",
      "https://www.ppomppu.co.kr/zboard/view.php?id=ppomppu&page=1&divpage=86&no=514299\n",
      "[11마존] Jarrow Formulas 자로우 도피러스 EPS 120캡슐 (28,500원/무료)\n",
      "https://www.ppomppu.co.kr/zboard/view.php?id=ppomppu&page=1&divpage=86&no=514298\n",
      "[1/30 오후 2시 / 네이버 쇼핑LIVE] 갤럭시탭 1월 특가! S9 플러스, S9 FE 구매하고 사은품 받아가세요!\n",
      "https://www.ppomppu.co.kr/zboard/view.php?id=pmarket&&no=289804\n",
      "[G마켓] 신제품 LG그램프로16 Big Sale! 49만원 할인+SSD 업그레이드!\n",
      "https://www.ppomppu.co.kr/zboard/view.php?id=pmarket&&no=289797\n",
      "[G라이브] 2024 LG그램15 신제품 쇼핑라이브 최대 70만원 할인혜택\n",
      "https://www.ppomppu.co.kr/zboard/view.php?id=pmarket&&no=289798\n",
      "맥심 모카골드400T/화이트골드400T/커피믹스/무료배송 (43,940원)\n",
      "https://www.ppomppu.co.kr/hotdeal/?no=29480153\n",
      "[쿠팡] PRETTYCARE 무선 진공청소기 20KPa의 강력한 흡입력을 가진 스틱형 진공청소기 (76800원)\n",
      "https://www.ppomppu.co.kr/zboard/view.php?id=social&no=39812\n",
      " 2월1일 맥도날드 굿즈 ㄷㄷ\n",
      "https://www.ppomppu.co.kr/zboard/view.php?id=social&no=39811\n",
      "[G마켓][노스페이스] 신학기 맨투맨 책가방 용품 많이 파네요\n",
      "https://www.ppomppu.co.kr/zboard/view.php?id=social&no=39810\n"
     ]
    }
   ],
   "source": [
    "titles = driver.find_elements(By.XPATH,\"\"\"//*[@id=\"revolution_main_table\"]/tbody/tr/td[3]/table/tbody/tr/td[2]/div/a/font\"\"\")\n",
    "urls = driver.find_elements(By.XPATH,\"\"\"//*[@id=\"revolution_main_table\"]/tbody/tr/td[3]/table/tbody/tr/td[2]/div/a\"\"\")\n",
    "\n",
    "for i in range(len(titles)):\n",
    "    print(titles[i].text)\n",
    "    print(urls[i].get_attribute('href'))"
   ]
  },
  {
   "cell_type": "code",
   "execution_count": 36,
   "metadata": {},
   "outputs": [
    {
     "name": "stderr",
     "output_type": "stream",
     "text": [
      "C:\\Users\\jhe\\AppData\\Roaming\\Python\\Python311\\site-packages\\pygments\\regexopt.py:78: RuntimeWarning: coroutine 'main' was never awaited\n",
      "  for group in groupby(strings, lambda s: s[0] == first[0])) \\\n",
      "RuntimeWarning: Enable tracemalloc to get the object allocation traceback\n"
     ]
    },
    {
     "ename": "RuntimeError",
     "evalue": "asyncio.run() cannot be called from a running event loop",
     "output_type": "error",
     "traceback": [
      "\u001b[1;31m---------------------------------------------------------------------------\u001b[0m",
      "\u001b[1;31mRuntimeError\u001b[0m                              Traceback (most recent call last)",
      "Cell \u001b[1;32mIn[36], line 16\u001b[0m\n\u001b[0;32m     12\u001b[0m         \u001b[38;5;28;01mawait\u001b[39;00m bot\u001b[38;5;241m.\u001b[39msend_message(text\u001b[38;5;241m=\u001b[39m\u001b[38;5;124m\"\u001b[39m\u001b[38;5;124m파이썬으로 보내는 메세지 입니다.\u001b[39m\u001b[38;5;124m\"\u001b[39m, chat_id\u001b[38;5;241m=\u001b[39mchat_id)\n\u001b[0;32m     15\u001b[0m \u001b[38;5;28;01mif\u001b[39;00m \u001b[38;5;18m__name__\u001b[39m \u001b[38;5;241m==\u001b[39m \u001b[38;5;124m'\u001b[39m\u001b[38;5;124m__main__\u001b[39m\u001b[38;5;124m'\u001b[39m:\n\u001b[1;32m---> 16\u001b[0m     \u001b[43masyncio\u001b[49m\u001b[38;5;241;43m.\u001b[39;49m\u001b[43mrun\u001b[49m\u001b[43m(\u001b[49m\u001b[43mmain\u001b[49m\u001b[43m(\u001b[49m\u001b[43m)\u001b[49m\u001b[43m)\u001b[49m\n",
      "File \u001b[1;32mc:\\Python311\\Lib\\asyncio\\runners.py:186\u001b[0m, in \u001b[0;36mrun\u001b[1;34m(main, debug)\u001b[0m\n\u001b[0;32m    161\u001b[0m \u001b[38;5;250m\u001b[39m\u001b[38;5;124;03m\"\"\"Execute the coroutine and return the result.\u001b[39;00m\n\u001b[0;32m    162\u001b[0m \n\u001b[0;32m    163\u001b[0m \u001b[38;5;124;03mThis function runs the passed coroutine, taking care of\u001b[39;00m\n\u001b[1;32m   (...)\u001b[0m\n\u001b[0;32m    182\u001b[0m \u001b[38;5;124;03m    asyncio.run(main())\u001b[39;00m\n\u001b[0;32m    183\u001b[0m \u001b[38;5;124;03m\"\"\"\u001b[39;00m\n\u001b[0;32m    184\u001b[0m \u001b[38;5;28;01mif\u001b[39;00m events\u001b[38;5;241m.\u001b[39m_get_running_loop() \u001b[38;5;129;01mis\u001b[39;00m \u001b[38;5;129;01mnot\u001b[39;00m \u001b[38;5;28;01mNone\u001b[39;00m:\n\u001b[0;32m    185\u001b[0m     \u001b[38;5;66;03m# fail fast with short traceback\u001b[39;00m\n\u001b[1;32m--> 186\u001b[0m     \u001b[38;5;28;01mraise\u001b[39;00m \u001b[38;5;167;01mRuntimeError\u001b[39;00m(\n\u001b[0;32m    187\u001b[0m         \u001b[38;5;124m\"\u001b[39m\u001b[38;5;124masyncio.run() cannot be called from a running event loop\u001b[39m\u001b[38;5;124m\"\u001b[39m)\n\u001b[0;32m    189\u001b[0m \u001b[38;5;28;01mwith\u001b[39;00m Runner(debug\u001b[38;5;241m=\u001b[39mdebug) \u001b[38;5;28;01mas\u001b[39;00m runner:\n\u001b[0;32m    190\u001b[0m     \u001b[38;5;28;01mreturn\u001b[39;00m runner\u001b[38;5;241m.\u001b[39mrun(main)\n",
      "\u001b[1;31mRuntimeError\u001b[0m: asyncio.run() cannot be called from a running event loop"
     ]
    }
   ],
   "source": [
    "import telegram\n",
    "import asyncio\n",
    "\n",
    "message = \"\"\n",
    "\n",
    "token = \"6554981239:AAEbHU0Oj2HhPYqgfixmkC-mQ6opaKrwo3k\"\n",
    "chat_id = \"6885683105\"\n",
    "\n",
    "async def main():\n",
    "    bot = telegram.Bot(token)\n",
    "    for i in range(len(titles)):\n",
    "        \n",
    "            message = titles[i].text + \"\\n\" + urls[i].get_attribute('href')\n",
    "            print(message)\n",
    "            async with bot:\n",
    "                await bot.send_message(text=message, chat_id=chat_id)\n",
    "                \n",
    "if __name__ == '__main__':\n",
    "    asyncio.run(main())\n"
   ]
  }
 ],
 "metadata": {
  "kernelspec": {
   "display_name": "Python 3",
   "language": "python",
   "name": "python3"
  },
  "language_info": {
   "codemirror_mode": {
    "name": "ipython",
    "version": 3
   },
   "file_extension": ".py",
   "mimetype": "text/x-python",
   "name": "python",
   "nbconvert_exporter": "python",
   "pygments_lexer": "ipython3",
   "version": "3.11.0"
  }
 },
 "nbformat": 4,
 "nbformat_minor": 2
}
